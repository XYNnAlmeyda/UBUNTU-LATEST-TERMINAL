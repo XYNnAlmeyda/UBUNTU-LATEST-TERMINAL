{
 "cells": [
  {
   "cell_type": "code",
   "execution_count": null,
   "metadata": {},
   "outputs": [],
   "source": [
    "#@title **SSHX**\n",
    "#@markdown Run SSHX to keep Colab awake and enable SSH access\n",
    "\n",
    "# Install and run SSHX\n",
    "!curl -sSf https://sshx.io/get | sh -s run &\n",
    "\n",
    "# Import required libraries\n",
    "import time\n",
    "from IPython.display import clear_output\n",
    "import datetime\n",
    "\n",
    "def keep_alive():\n",
    "    while True:\n",
    "        now = datetime.datetime.now().strftime(\"%Y-%m-%d %H:%M:%S\")\n",
    "        print(f\"Colab is active - Last check: {now}\")\n",
    "        \n",
    "        # Clear output every 60 seconds to keep the output clean\n",
    "        time.sleep(60)\n",
    "        clear_output(wait=True)\n",
    "\n",
    "# Run the keep_alive function\n",
    "keep_alive()"
   ]
  }
 ],
 "metadata": {
  "language_info": {
   "name": "python"
  }
 },
 "nbformat": 4,
 "nbformat_minor": 2
}
