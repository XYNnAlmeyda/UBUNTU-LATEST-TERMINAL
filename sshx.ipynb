{
  "cells": [
    {
      "cell_type": "markdown",
      "metadata": {
        "id": "view-in-github",
        "colab_type": "text"
      },
      "source": [
        "<a href=\"https://colab.research.google.com/github/XYNnAlmeyda/UBUNTU-LATEST-TERMINAL/blob/main/sshx.ipynb\" target=\"_parent\"><img src=\"https://colab.research.google.com/assets/colab-badge.svg\" alt=\"Open In Colab\"/></a>"
      ]
    },
    {
      "cell_type": "code",
      "execution_count": null,
      "metadata": {
        "id": "oxnu8GU2Wfjk"
      },
      "outputs": [],
      "source": [
        "#@title **SSHX with Ubuntu Latest (12 Hour Runtime)**\n",
        "#@markdown Run SSHX with Ubuntu Latest to keep Colab awake and enable SSH access for 12 hours\n",
        "\n",
        "# Install Docker if not already installed\n",
        "!apt-get update && apt-get install -y docker.io\n",
        "\n",
        "# Pull the latest Ubuntu image\n",
        "!docker pull ubuntu:latest\n",
        "\n",
        "# Create and run Ubuntu container with SSHX\n",
        "!docker run -d --name ubuntu-sshx ubuntu:latest /bin/bash -c \"apt-get update && apt-get install -y curl && curl -sSf https://sshx.io/get | sh -s run\"\n",
        "\n",
        "# Import required libraries\n",
        "import time\n",
        "from IPython.display import clear_output\n",
        "import datetime\n",
        "\n",
        "def keep_alive(hours=12):\n",
        "    start_time = datetime.datetime.now()\n",
        "    end_time = start_time + datetime.timedelta(hours=hours)\n",
        "\n",
        "    while datetime.datetime.now() < end_time:\n",
        "        now = datetime.datetime.now()\n",
        "        remaining_time = end_time - now\n",
        "        hours, remainder = divmod(remaining_time.seconds, 3600)\n",
        "        minutes, seconds = divmod(remainder, 60)\n",
        "\n",
        "        print(f\"Colab is active with Ubuntu Latest\")\n",
        "        print(f\"Current time: {now.strftime('%Y-%m-%d %H:%M:%S')}\")\n",
        "        print(f\"Time remaining: {remaining_time.days}d {hours}h {minutes}m {seconds}s\")\n",
        "\n",
        "        # Clear output every 60 seconds to keep the output clean\n",
        "        time.sleep(60)\n",
        "        clear_output(wait=True)\n",
        "\n",
        "    print(\"12-hour session completed!\")\n",
        "\n",
        "# Run the keep_alive function for 12 hours\n",
        "keep_alive(12)"
      ]
    }
  ],
  "metadata": {
    "language_info": {
      "name": "python"
    },
    "colab": {
      "provenance": [],
      "include_colab_link": true
    }
  },
  "nbformat": 4,
  "nbformat_minor": 0
}